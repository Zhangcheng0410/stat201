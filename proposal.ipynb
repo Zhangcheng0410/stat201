{
 "cells": [
  {
   "cell_type": "markdown",
   "id": "35ea8b03-1c4a-4063-bc5f-357f696de4dd",
   "metadata": {},
   "source": [
    "# Group Project Proposal"
   ]
  },
  {
   "cell_type": "markdown",
   "id": "7851ea35-aa1f-4fdc-8736-4c4bb77049d1",
   "metadata": {},
   "source": [
    "## Title:"
   ]
  },
  {
   "cell_type": "markdown",
   "id": "5d328964-da70-4095-93f9-d4957be81a7f",
   "metadata": {},
   "source": [
    "#### Analysis of whether living in the the urban or rural areas affected children's academic performance"
   ]
  },
  {
   "cell_type": "markdown",
   "id": "063be6a8-5ed1-4f65-a596-d223fee265dc",
   "metadata": {},
   "source": [
    "## Introduction:"
   ]
  },
  {
   "cell_type": "markdown",
   "id": "31ec6172-4093-4e1c-beee-2dfccac55094",
   "metadata": {},
   "source": [
    "A constant concern of every parent is their child's performance in terms of grades. How parent’s resources can shape a child’s achievement academically has been extensively researched and documented by sociologists (Yurk Quadlin, N. 2015). Many parents use their resources to strategically influence children’s educational performance (Bernardi and Grätz, 2015), and that parent’s income levels form a positive relationship with children’s academic performance (Wiborg and Grätz 2022). \n",
    "\n",
    "In this report, we will be working on a dataset named “Go To College Dataset” from Kaggle, which is about whether or not students will continue to go to college with each student’s background information. The information for each student includes the type of school that student attended during high school, the quality of school, the gender of the student, whether they lived in urban or rural area, their average grades, etc. In in this report, we will be looking particularly at two columns: whether the students lived in urban or rural area and their average grades. \n",
    "\n",
    "Using the programming language R as a tool for our analysis, we will be attempting to answer the research question: \n",
    "**Do students living in urban areas perform significantly better in terms of grades than students living in rural areas?**\n"
   ]
  },
  {
   "cell_type": "markdown",
   "id": "ba86d936-5d4c-4ccd-a70f-2d84719013e2",
   "metadata": {},
   "source": [
    "## Preliminary Results:"
   ]
  },
  {
   "cell_type": "code",
   "execution_count": 1,
   "id": "f3eebf56-85d4-4a9b-9dc6-df1e4e955fdb",
   "metadata": {},
   "outputs": [
    {
     "name": "stderr",
     "output_type": "stream",
     "text": [
      "── \u001b[1mAttaching packages\u001b[22m ─────────────────────────────────────── tidyverse 1.3.0 ──\n",
      "\n",
      "\u001b[32m✔\u001b[39m \u001b[34mggplot2\u001b[39m 3.3.6     \u001b[32m✔\u001b[39m \u001b[34mpurrr  \u001b[39m 0.3.4\n",
      "\u001b[32m✔\u001b[39m \u001b[34mtibble \u001b[39m 3.1.7     \u001b[32m✔\u001b[39m \u001b[34mdplyr  \u001b[39m 1.0.9\n",
      "\u001b[32m✔\u001b[39m \u001b[34mtidyr  \u001b[39m 1.2.0     \u001b[32m✔\u001b[39m \u001b[34mstringr\u001b[39m 1.4.0\n",
      "\u001b[32m✔\u001b[39m \u001b[34mreadr  \u001b[39m 2.1.2     \u001b[32m✔\u001b[39m \u001b[34mforcats\u001b[39m 0.5.1\n",
      "\n",
      "── \u001b[1mConflicts\u001b[22m ────────────────────────────────────────── tidyverse_conflicts() ──\n",
      "\u001b[31m✖\u001b[39m \u001b[34mdplyr\u001b[39m::\u001b[32mcombine()\u001b[39m masks \u001b[34mgridExtra\u001b[39m::combine()\n",
      "\u001b[31m✖\u001b[39m \u001b[34mdplyr\u001b[39m::\u001b[32mfilter()\u001b[39m  masks \u001b[34mstats\u001b[39m::filter()\n",
      "\u001b[31m✖\u001b[39m \u001b[34mdplyr\u001b[39m::\u001b[32mlag()\u001b[39m     masks \u001b[34mstats\u001b[39m::lag()\n",
      "\n",
      "Registered S3 method overwritten by 'GGally':\n",
      "  method from   \n",
      "  +.gg   ggplot2\n",
      "\n"
     ]
    }
   ],
   "source": [
    "# run the initial package\n",
    "library(cowplot)\n",
    "library(digest)\n",
    "library(gridExtra)\n",
    "library(infer)\n",
    "library(repr)\n",
    "library(tidyverse)\n",
    "library(datateachr)\n",
    "library(stats)\n",
    "library(dplyr)\n",
    "options(repr.matrix.max.rows = 6)\n",
    "library(\"ggplot2\")\n",
    "library(\"GGally\")"
   ]
  },
  {
   "cell_type": "code",
   "execution_count": 2,
   "id": "03ad6883-fbce-454e-820e-3d5bda09f959",
   "metadata": {},
   "outputs": [
    {
     "name": "stderr",
     "output_type": "stream",
     "text": [
      "\u001b[1mRows: \u001b[22m\u001b[34m1000\u001b[39m \u001b[1mColumns: \u001b[22m\u001b[34m11\u001b[39m\n",
      "\u001b[36m──\u001b[39m \u001b[1mColumn specification\u001b[22m \u001b[36m────────────────────────────────────────────────────────\u001b[39m\n",
      "\u001b[1mDelimiter:\u001b[22m \",\"\n",
      "\u001b[31mchr\u001b[39m (5): type_school, school_accreditation, gender, interest, residence\n",
      "\u001b[32mdbl\u001b[39m (4): parent_age, parent_salary, house_area, average_grades\n",
      "\u001b[33mlgl\u001b[39m (2): parent_was_in_college, will_go_to_college\n",
      "\n",
      "\u001b[36mℹ\u001b[39m Use `spec()` to retrieve the full column specification for this data.\n",
      "\u001b[36mℹ\u001b[39m Specify the column types or set `show_col_types = FALSE` to quiet this message.\n"
     ]
    },
    {
     "data": {
      "text/html": [
       "<table class=\"dataframe\">\n",
       "<caption>A spec_tbl_df: 1000 × 11</caption>\n",
       "<thead>\n",
       "\t<tr><th scope=col>type_school</th><th scope=col>school_accreditation</th><th scope=col>gender</th><th scope=col>interest</th><th scope=col>residence</th><th scope=col>parent_age</th><th scope=col>parent_salary</th><th scope=col>house_area</th><th scope=col>average_grades</th><th scope=col>parent_was_in_college</th><th scope=col>will_go_to_college</th></tr>\n",
       "\t<tr><th scope=col>&lt;chr&gt;</th><th scope=col>&lt;chr&gt;</th><th scope=col>&lt;chr&gt;</th><th scope=col>&lt;chr&gt;</th><th scope=col>&lt;chr&gt;</th><th scope=col>&lt;dbl&gt;</th><th scope=col>&lt;dbl&gt;</th><th scope=col>&lt;dbl&gt;</th><th scope=col>&lt;dbl&gt;</th><th scope=col>&lt;lgl&gt;</th><th scope=col>&lt;lgl&gt;</th></tr>\n",
       "</thead>\n",
       "<tbody>\n",
       "\t<tr><td>Academic</td><td>A</td><td>Male  </td><td>Less Interested</td><td>Urban</td><td>56</td><td>6950000</td><td>83.0</td><td>84.09</td><td>FALSE</td><td>TRUE</td></tr>\n",
       "\t<tr><td>Academic</td><td>A</td><td>Male  </td><td>Less Interested</td><td>Urban</td><td>57</td><td>4410000</td><td>76.8</td><td>86.91</td><td>FALSE</td><td>TRUE</td></tr>\n",
       "\t<tr><td>Academic</td><td>B</td><td>Female</td><td>Very Interested</td><td>Urban</td><td>50</td><td>6500000</td><td>80.6</td><td>87.43</td><td>FALSE</td><td>TRUE</td></tr>\n",
       "\t<tr><td>⋮</td><td>⋮</td><td>⋮</td><td>⋮</td><td>⋮</td><td>⋮</td><td>⋮</td><td>⋮</td><td>⋮</td><td>⋮</td><td>⋮</td></tr>\n",
       "\t<tr><td>Vocational</td><td>A</td><td>Male</td><td>Less Interested</td><td>Urban</td><td>49</td><td>5550000</td><td> 75.2</td><td>79.56</td><td>FALSE</td><td> TRUE</td></tr>\n",
       "\t<tr><td>Academic  </td><td>B</td><td>Male</td><td>Uncertain      </td><td>Rural</td><td>53</td><td>5840000</td><td>105.8</td><td>87.18</td><td> TRUE</td><td> TRUE</td></tr>\n",
       "\t<tr><td>Academic  </td><td>B</td><td>Male</td><td>Interested     </td><td>Urban</td><td>50</td><td>2940000</td><td> 69.1</td><td>86.13</td><td> TRUE</td><td>FALSE</td></tr>\n",
       "</tbody>\n",
       "</table>\n"
      ],
      "text/latex": [
       "A spec\\_tbl\\_df: 1000 × 11\n",
       "\\begin{tabular}{lllllllllll}\n",
       " type\\_school & school\\_accreditation & gender & interest & residence & parent\\_age & parent\\_salary & house\\_area & average\\_grades & parent\\_was\\_in\\_college & will\\_go\\_to\\_college\\\\\n",
       " <chr> & <chr> & <chr> & <chr> & <chr> & <dbl> & <dbl> & <dbl> & <dbl> & <lgl> & <lgl>\\\\\n",
       "\\hline\n",
       "\t Academic & A & Male   & Less Interested & Urban & 56 & 6950000 & 83.0 & 84.09 & FALSE & TRUE\\\\\n",
       "\t Academic & A & Male   & Less Interested & Urban & 57 & 4410000 & 76.8 & 86.91 & FALSE & TRUE\\\\\n",
       "\t Academic & B & Female & Very Interested & Urban & 50 & 6500000 & 80.6 & 87.43 & FALSE & TRUE\\\\\n",
       "\t ⋮ & ⋮ & ⋮ & ⋮ & ⋮ & ⋮ & ⋮ & ⋮ & ⋮ & ⋮ & ⋮\\\\\n",
       "\t Vocational & A & Male & Less Interested & Urban & 49 & 5550000 &  75.2 & 79.56 & FALSE &  TRUE\\\\\n",
       "\t Academic   & B & Male & Uncertain       & Rural & 53 & 5840000 & 105.8 & 87.18 &  TRUE &  TRUE\\\\\n",
       "\t Academic   & B & Male & Interested      & Urban & 50 & 2940000 &  69.1 & 86.13 &  TRUE & FALSE\\\\\n",
       "\\end{tabular}\n"
      ],
      "text/markdown": [
       "\n",
       "A spec_tbl_df: 1000 × 11\n",
       "\n",
       "| type_school &lt;chr&gt; | school_accreditation &lt;chr&gt; | gender &lt;chr&gt; | interest &lt;chr&gt; | residence &lt;chr&gt; | parent_age &lt;dbl&gt; | parent_salary &lt;dbl&gt; | house_area &lt;dbl&gt; | average_grades &lt;dbl&gt; | parent_was_in_college &lt;lgl&gt; | will_go_to_college &lt;lgl&gt; |\n",
       "|---|---|---|---|---|---|---|---|---|---|---|\n",
       "| Academic | A | Male   | Less Interested | Urban | 56 | 6950000 | 83.0 | 84.09 | FALSE | TRUE |\n",
       "| Academic | A | Male   | Less Interested | Urban | 57 | 4410000 | 76.8 | 86.91 | FALSE | TRUE |\n",
       "| Academic | B | Female | Very Interested | Urban | 50 | 6500000 | 80.6 | 87.43 | FALSE | TRUE |\n",
       "| ⋮ | ⋮ | ⋮ | ⋮ | ⋮ | ⋮ | ⋮ | ⋮ | ⋮ | ⋮ | ⋮ |\n",
       "| Vocational | A | Male | Less Interested | Urban | 49 | 5550000 |  75.2 | 79.56 | FALSE |  TRUE |\n",
       "| Academic   | B | Male | Uncertain       | Rural | 53 | 5840000 | 105.8 | 87.18 |  TRUE |  TRUE |\n",
       "| Academic   | B | Male | Interested      | Urban | 50 | 2940000 |  69.1 | 86.13 |  TRUE | FALSE |\n",
       "\n"
      ],
      "text/plain": [
       "     type_school school_accreditation gender interest        residence\n",
       "1    Academic    A                    Male   Less Interested Urban    \n",
       "2    Academic    A                    Male   Less Interested Urban    \n",
       "3    Academic    B                    Female Very Interested Urban    \n",
       "⋮    ⋮           ⋮                    ⋮      ⋮               ⋮        \n",
       "998  Vocational  A                    Male   Less Interested Urban    \n",
       "999  Academic    B                    Male   Uncertain       Rural    \n",
       "1000 Academic    B                    Male   Interested      Urban    \n",
       "     parent_age parent_salary house_area average_grades parent_was_in_college\n",
       "1    56         6950000       83.0       84.09          FALSE                \n",
       "2    57         4410000       76.8       86.91          FALSE                \n",
       "3    50         6500000       80.6       87.43          FALSE                \n",
       "⋮    ⋮          ⋮             ⋮          ⋮              ⋮                    \n",
       "998  49         5550000        75.2      79.56          FALSE                \n",
       "999  53         5840000       105.8      87.18           TRUE                \n",
       "1000 50         2940000        69.1      86.13           TRUE                \n",
       "     will_go_to_college\n",
       "1    TRUE              \n",
       "2    TRUE              \n",
       "3    TRUE              \n",
       "⋮    ⋮                 \n",
       "998   TRUE             \n",
       "999   TRUE             \n",
       "1000 FALSE             "
      ]
     },
     "metadata": {},
     "output_type": "display_data"
    }
   ],
   "source": [
    "# Load dataset\n",
    "# url <- \"https://github.com/Zhangcheng0410/stat201/blob/main/data.csv\"\n",
    "# download.file(url, destfile = \"data.csv\")\n",
    "\n",
    "# studentset_csv <- read_csv(\"data.csv\")\n",
    "\n",
    "# studentset\n",
    "\n",
    "studentset <- read_csv(\"data.csv\")\n",
    "studentset"
   ]
  },
  {
   "cell_type": "code",
   "execution_count": 3,
   "id": "8f7f78bc-d987-4721-804f-b051aa02a45e",
   "metadata": {},
   "outputs": [
    {
     "data": {
      "text/html": [
       "<table class=\"dataframe\">\n",
       "<caption>A tibble: 6 × 2</caption>\n",
       "<thead>\n",
       "\t<tr><th scope=col>residence</th><th scope=col>average_grades</th></tr>\n",
       "\t<tr><th scope=col>&lt;chr&gt;</th><th scope=col>&lt;dbl&gt;</th></tr>\n",
       "</thead>\n",
       "<tbody>\n",
       "\t<tr><td>Urban</td><td>84.09</td></tr>\n",
       "\t<tr><td>Urban</td><td>86.91</td></tr>\n",
       "\t<tr><td>Urban</td><td>87.43</td></tr>\n",
       "\t<tr><td>Urban</td><td>86.79</td></tr>\n",
       "\t<tr><td>Urban</td><td>84.09</td></tr>\n",
       "\t<tr><td>Urban</td><td>89.71</td></tr>\n",
       "</tbody>\n",
       "</table>\n"
      ],
      "text/latex": [
       "A tibble: 6 × 2\n",
       "\\begin{tabular}{ll}\n",
       " residence & average\\_grades\\\\\n",
       " <chr> & <dbl>\\\\\n",
       "\\hline\n",
       "\t Urban & 84.09\\\\\n",
       "\t Urban & 86.91\\\\\n",
       "\t Urban & 87.43\\\\\n",
       "\t Urban & 86.79\\\\\n",
       "\t Urban & 84.09\\\\\n",
       "\t Urban & 89.71\\\\\n",
       "\\end{tabular}\n"
      ],
      "text/markdown": [
       "\n",
       "A tibble: 6 × 2\n",
       "\n",
       "| residence &lt;chr&gt; | average_grades &lt;dbl&gt; |\n",
       "|---|---|\n",
       "| Urban | 84.09 |\n",
       "| Urban | 86.91 |\n",
       "| Urban | 87.43 |\n",
       "| Urban | 86.79 |\n",
       "| Urban | 84.09 |\n",
       "| Urban | 89.71 |\n",
       "\n"
      ],
      "text/plain": [
       "  residence average_grades\n",
       "1 Urban     84.09         \n",
       "2 Urban     86.91         \n",
       "3 Urban     87.43         \n",
       "4 Urban     86.79         \n",
       "5 Urban     84.09         \n",
       "6 Urban     89.71         "
      ]
     },
     "metadata": {},
     "output_type": "display_data"
    },
    {
     "data": {
      "text/html": [
       "<table class=\"dataframe\">\n",
       "<caption>A tibble: 1 × 2</caption>\n",
       "<thead>\n",
       "\t<tr><th scope=col>mean</th><th scope=col>median</th></tr>\n",
       "\t<tr><th scope=col>&lt;dbl&gt;</th><th scope=col>&lt;dbl&gt;</th></tr>\n",
       "</thead>\n",
       "<tbody>\n",
       "\t<tr><td>85.41506</td><td>85.09</td></tr>\n",
       "</tbody>\n",
       "</table>\n"
      ],
      "text/latex": [
       "A tibble: 1 × 2\n",
       "\\begin{tabular}{ll}\n",
       " mean & median\\\\\n",
       " <dbl> & <dbl>\\\\\n",
       "\\hline\n",
       "\t 85.41506 & 85.09\\\\\n",
       "\\end{tabular}\n"
      ],
      "text/markdown": [
       "\n",
       "A tibble: 1 × 2\n",
       "\n",
       "| mean &lt;dbl&gt; | median &lt;dbl&gt; |\n",
       "|---|---|\n",
       "| 85.41506 | 85.09 |\n",
       "\n"
      ],
      "text/plain": [
       "  mean     median\n",
       "1 85.41506 85.09 "
      ]
     },
     "metadata": {},
     "output_type": "display_data"
    }
   ],
   "source": [
    "# calculate the mean and median of average grades from unban student\n",
    "student_urban <- studentset%>%\n",
    "    filter(residence==\"Urban\")%>%\n",
    "    select(residence, average_grades)\n",
    "urban_mean_median <- student_urban%>%\n",
    "    summarize(mean= mean(average_grades), median=median(average_grades))\n",
    "head(student_urban)\n",
    "urban_mean_median "
   ]
  },
  {
   "cell_type": "code",
   "execution_count": 4,
   "id": "db2b6a47-5906-4e7a-9c32-303cd60f0251",
   "metadata": {},
   "outputs": [
    {
     "data": {
      "text/html": [
       "<table class=\"dataframe\">\n",
       "<caption>A tibble: 6 × 2</caption>\n",
       "<thead>\n",
       "\t<tr><th scope=col>residence</th><th scope=col>average_grades</th></tr>\n",
       "\t<tr><th scope=col>&lt;chr&gt;</th><th scope=col>&lt;dbl&gt;</th></tr>\n",
       "</thead>\n",
       "<tbody>\n",
       "\t<tr><td>Rural</td><td>82.12</td></tr>\n",
       "\t<tr><td>Rural</td><td>86.79</td></tr>\n",
       "\t<tr><td>Rural</td><td>90.39</td></tr>\n",
       "\t<tr><td>Rural</td><td>84.65</td></tr>\n",
       "\t<tr><td>Rural</td><td>88.50</td></tr>\n",
       "\t<tr><td>Rural</td><td>85.43</td></tr>\n",
       "</tbody>\n",
       "</table>\n"
      ],
      "text/latex": [
       "A tibble: 6 × 2\n",
       "\\begin{tabular}{ll}\n",
       " residence & average\\_grades\\\\\n",
       " <chr> & <dbl>\\\\\n",
       "\\hline\n",
       "\t Rural & 82.12\\\\\n",
       "\t Rural & 86.79\\\\\n",
       "\t Rural & 90.39\\\\\n",
       "\t Rural & 84.65\\\\\n",
       "\t Rural & 88.50\\\\\n",
       "\t Rural & 85.43\\\\\n",
       "\\end{tabular}\n"
      ],
      "text/markdown": [
       "\n",
       "A tibble: 6 × 2\n",
       "\n",
       "| residence &lt;chr&gt; | average_grades &lt;dbl&gt; |\n",
       "|---|---|\n",
       "| Rural | 82.12 |\n",
       "| Rural | 86.79 |\n",
       "| Rural | 90.39 |\n",
       "| Rural | 84.65 |\n",
       "| Rural | 88.50 |\n",
       "| Rural | 85.43 |\n",
       "\n"
      ],
      "text/plain": [
       "  residence average_grades\n",
       "1 Rural     82.12         \n",
       "2 Rural     86.79         \n",
       "3 Rural     90.39         \n",
       "4 Rural     84.65         \n",
       "5 Rural     88.50         \n",
       "6 Rural     85.43         "
      ]
     },
     "metadata": {},
     "output_type": "display_data"
    },
    {
     "data": {
      "text/html": [
       "<table class=\"dataframe\">\n",
       "<caption>A tibble: 1 × 2</caption>\n",
       "<thead>\n",
       "\t<tr><th scope=col>mean</th><th scope=col>median</th></tr>\n",
       "\t<tr><th scope=col>&lt;dbl&gt;</th><th scope=col>&lt;dbl&gt;</th></tr>\n",
       "</thead>\n",
       "<tbody>\n",
       "\t<tr><td>86.89475</td><td>86.33</td></tr>\n",
       "</tbody>\n",
       "</table>\n"
      ],
      "text/latex": [
       "A tibble: 1 × 2\n",
       "\\begin{tabular}{ll}\n",
       " mean & median\\\\\n",
       " <dbl> & <dbl>\\\\\n",
       "\\hline\n",
       "\t 86.89475 & 86.33\\\\\n",
       "\\end{tabular}\n"
      ],
      "text/markdown": [
       "\n",
       "A tibble: 1 × 2\n",
       "\n",
       "| mean &lt;dbl&gt; | median &lt;dbl&gt; |\n",
       "|---|---|\n",
       "| 86.89475 | 86.33 |\n",
       "\n"
      ],
      "text/plain": [
       "  mean     median\n",
       "1 86.89475 86.33 "
      ]
     },
     "metadata": {},
     "output_type": "display_data"
    }
   ],
   "source": [
    "# calculate the mean and median of average grades from rural student\n",
    "student_rural <- studentset%>%\n",
    "    filter(residence==\"Rural\")%>%\n",
    "    select(residence, average_grades)\n",
    "rural_mean_median <- student_rural %>%\n",
    "    summarize(mean= mean(average_grades), median=median(average_grades))\n",
    "head(student_rural)\n",
    "rural_mean_median "
   ]
  },
  {
   "cell_type": "code",
   "execution_count": 5,
   "id": "7ce0e698-2fb6-4f3f-a289-6ff33c5760bf",
   "metadata": {},
   "outputs": [
    {
     "name": "stderr",
     "output_type": "stream",
     "text": [
      "Warning message:\n",
      "“Removed 2 rows containing missing values (geom_bar).”\n",
      "Warning message:\n",
      "“Removed 2 rows containing missing values (geom_bar).”\n"
     ]
    },
    {
     "data": {
      "image/png": "[encoded data removed]",
      "text/plain": [
       "plot without title"
      ]
     },
     "metadata": {
      "image/png": {
       "height": 600,
       "width": 600
      }
     },
     "output_type": "display_data"
    }
   ],
   "source": [
    "# visualize each median and mean from urban and rural dataset\n",
    "options(repr.plot.width = 10, repr.plot.height = 10)\n",
    "urban_plot <- student_urban %>%\n",
    "    ggplot(aes(x= average_grades))+\n",
    "    geom_histogram(binwidth=0.9, color=\"white\")+\n",
    "    labs(title=\"The Distribution of Urban Students\", x=\"average grades\", y=\"count\")+\n",
    "    geom_vline(xintercept = urban_mean_median$mean,\n",
    "                color = \"blue\", size=1.5)+\n",
    "    geom_text(aes(x=87, y= 80, label = \"mean\"), colour = \"blue\", vjust = 1, size = 7)+ \n",
    "    geom_vline(xintercept = urban_mean_median$median, \n",
    "                color = \"red\", size=1.5)+\n",
    "    geom_text(aes(x=83.5, y= 80, label = \"median\"), colour = \"red\", vjust = 1, size = 7)\n",
    "\n",
    "rural_plot <- student_rural %>%\n",
    "    ggplot(aes(x= average_grades))+\n",
    "    geom_histogram(binwidth=0.9, color=\"white\")+\n",
    "    labs(title=\"The Distribution of Rural Students\", x=\"average grades\",y=\"count\")+\n",
    "    geom_vline(xintercept = rural_mean_median$mean,\n",
    "                color = \"blue\", size=1.5)+\n",
    "    geom_text(aes(x=88.5, y= 80, label = \"mean\"), colour = \"blue\", vjust = 1, size = 7)+ \n",
    "    geom_vline(xintercept = rural_mean_median$median, \n",
    "                color = \"red\", size=1.5)+\n",
    "    geom_text(aes(x=84.5, y= 80, label = \"median\"), colour = \"red\", vjust = 1, size = 7)\n",
    "\n",
    "proportion_plot_row <- plot_grid(urban_plot +\n",
    "                                 scale_x_continuous(limits = c(70, 100)),\n",
    "                                 rural_plot +\n",
    "                                 scale_x_continuous(limits = c(70, 100)),\n",
    "                                 ncol = 1)\n",
    "means_grid <- plot_grid(proportion_plot_row)\n",
    "                        # ncol = 1,\n",
    "                        # rel_heights = c(1, 10))\n",
    "\n",
    "# urban_plot\n",
    "# rural_plot\n",
    "means_grid"
   ]
  },
  {
   "cell_type": "code",
   "execution_count": 6,
   "id": "0794119a-306b-44f6-9a24-8cc8cf5b05c6",
   "metadata": {},
   "outputs": [
    {
     "data": {
      "text/html": [
       "<table class=\"dataframe\">\n",
       "<caption>A tibble: 1000 × 2</caption>\n",
       "<thead>\n",
       "\t<tr><th scope=col>residence</th><th scope=col>average_grades</th></tr>\n",
       "\t<tr><th scope=col>&lt;chr&gt;</th><th scope=col>&lt;dbl&gt;</th></tr>\n",
       "</thead>\n",
       "<tbody>\n",
       "\t<tr><td>Urban</td><td>84.09</td></tr>\n",
       "\t<tr><td>Urban</td><td>86.91</td></tr>\n",
       "\t<tr><td>Urban</td><td>87.43</td></tr>\n",
       "\t<tr><td>⋮</td><td>⋮</td></tr>\n",
       "\t<tr><td>Urban</td><td>79.56</td></tr>\n",
       "\t<tr><td>Rural</td><td>87.18</td></tr>\n",
       "\t<tr><td>Urban</td><td>86.13</td></tr>\n",
       "</tbody>\n",
       "</table>\n"
      ],
      "text/latex": [
       "A tibble: 1000 × 2\n",
       "\\begin{tabular}{ll}\n",
       " residence & average\\_grades\\\\\n",
       " <chr> & <dbl>\\\\\n",
       "\\hline\n",
       "\t Urban & 84.09\\\\\n",
       "\t Urban & 86.91\\\\\n",
       "\t Urban & 87.43\\\\\n",
       "\t ⋮ & ⋮\\\\\n",
       "\t Urban & 79.56\\\\\n",
       "\t Rural & 87.18\\\\\n",
       "\t Urban & 86.13\\\\\n",
       "\\end{tabular}\n"
      ],
      "text/markdown": [
       "\n",
       "A tibble: 1000 × 2\n",
       "\n",
       "| residence &lt;chr&gt; | average_grades &lt;dbl&gt; |\n",
       "|---|---|\n",
       "| Urban | 84.09 |\n",
       "| Urban | 86.91 |\n",
       "| Urban | 87.43 |\n",
       "| ⋮ | ⋮ |\n",
       "| Urban | 79.56 |\n",
       "| Rural | 87.18 |\n",
       "| Urban | 86.13 |\n",
       "\n"
      ],
      "text/plain": [
       "     residence average_grades\n",
       "1    Urban     84.09         \n",
       "2    Urban     86.91         \n",
       "3    Urban     87.43         \n",
       "⋮    ⋮         ⋮             \n",
       "998  Urban     79.56         \n",
       "999  Rural     87.18         \n",
       "1000 Urban     86.13         "
      ]
     },
     "metadata": {},
     "output_type": "display_data"
    }
   ],
   "source": [
    "# select two useful columns: students' residence and avergae score \n",
    "student_total<- studentset%>%\n",
    "    select(residence, average_grades)\n",
    "\n",
    "\n",
    "student_total"
   ]
  },
  {
   "cell_type": "markdown",
   "id": "9823f4ab-d9ce-4c75-801c-650e9e3095f5",
   "metadata": {},
   "source": [
    "We want to test if the residence of students (urban and rural) will influence their performance in study (average grade). We guess students from rural have better score than those from urban."
   ]
  },
  {
   "cell_type": "markdown",
   "id": "e3c502cf-43ec-4886-b930-0ee8e0243280",
   "metadata": {},
   "source": [
    "The median and mean of grades of urban and rural students would be most suitable to investigate and ultimately test the our claim. "
   ]
  },
  {
   "cell_type": "markdown",
   "id": "eb049d14-8ec6-4883-9c67-694d1af2b529",
   "metadata": {},
   "source": [
    "We want to study how urban and rural students' grades are different. For now, let us focus on the mean of the average grades. We want to test hypotheses about the mean at the 5% significance level. "
   ]
  },
  {
   "cell_type": "markdown",
   "id": "59760e8d-a408-4a90-87d2-75eae336e883",
   "metadata": {},
   "source": [
    "First let's conduct a hypothesis test to examine students' difference average score from urban and rural in mean.\n",
    "\n",
    "$H_0$: The mean of students' score from rural is same as the mean of students' score from urban.\n",
    "\n",
    "$H_1$: The mean of students' score from rural is larger than the mean of students' score from urban."
   ]
  },
  {
   "cell_type": "code",
   "execution_count": 7,
   "id": "3fb99a9e-e185-45cb-8087-bb65e03e1a8d",
   "metadata": {},
   "outputs": [
    {
     "data": {
      "text/html": [
       "<table class=\"dataframe\">\n",
       "<caption>A tibble: 1 × 1</caption>\n",
       "<thead>\n",
       "\t<tr><th scope=col>stat</th></tr>\n",
       "\t<tr><th scope=col>&lt;dbl&gt;</th></tr>\n",
       "</thead>\n",
       "<tbody>\n",
       "\t<tr><td>1.479686</td></tr>\n",
       "</tbody>\n",
       "</table>\n"
      ],
      "text/latex": [
       "A tibble: 1 × 1\n",
       "\\begin{tabular}{l}\n",
       " stat\\\\\n",
       " <dbl>\\\\\n",
       "\\hline\n",
       "\t 1.479686\\\\\n",
       "\\end{tabular}\n"
      ],
      "text/markdown": [
       "\n",
       "A tibble: 1 × 1\n",
       "\n",
       "| stat &lt;dbl&gt; |\n",
       "|---|\n",
       "| 1.479686 |\n",
       "\n"
      ],
      "text/plain": [
       "  stat    \n",
       "1 1.479686"
      ]
     },
     "metadata": {},
     "output_type": "display_data"
    }
   ],
   "source": [
    "# first calculate the observed test statistic\n",
    "obs_diff_in_means <- \n",
    "    student_total%>%\n",
    "    specify(formula=average_grades~residence)%>%\n",
    "    calculate(stat= \"diff in means\", order= c(\"Rural\", \"Urban\"))\n",
    "obs_diff_in_means"
   ]
  },
  {
   "cell_type": "markdown",
   "id": "11d34eb9-f2a0-4292-ae02-629f3f5ed805",
   "metadata": {},
   "source": [
    "## Methods: Plan"
   ]
  },
  {
   "cell_type": "markdown",
   "id": "c5590673-6042-4112-a969-d77aacf2d50c",
   "metadata": {},
   "source": [
    "Methods:\n",
    "we will simulate from the null distribution. Using the infer package, generate 1000 samples from the null distribution. And then use student_total to specify the response and explanatory variables, hypothesize, generate 1000 samples and calculate rural students' grades mean minus urban students' grades mean. After that, we will plot the result of the hypothesis test with visualize, obtain the p-value and analyze it, make conclusion baesd on the result of the hypothesis test. Finally, we would like to find the 90% confidence interval for the difference in mean. We choose 90% confidence level since the wider the confidence interval, the more intervals can capture the true mean. Also, since it's just a data about the difference between rural and urban students' behavior, not the data like the cancer, so we don't need 99% confidence interval, which is pretty precise. We will also plot the bootstrap distribution."
   ]
  },
  {
   "cell_type": "markdown",
   "id": "a885aae7-fa04-494b-ab29-6f50ef60f1a6",
   "metadata": {},
   "source": [
    "## References:"
   ]
  },
  {
   "cell_type": "markdown",
   "id": "1335ce79-a846-4de6-aae8-b1796225c810",
   "metadata": {},
   "source": [
    "Bernardi, F., & Gratz, M. (2015). Making up for an unlucky month of birth in school: Causal evidence on the compensatory advantage of family background in england. _Sociological Science_, 2(12), 235-251. https://doi.org/10.15195/v2.a12\n",
    "\n",
    "\n",
    "Wiborg, Ø. N., & Grätz, M. (2022). Parents’ income and wealth matter more for children with low than high academic performance: Evidence from comparisons between and within families in egalitarian norway. _Research in Social Stratification and Mobility_, 79, 100692. https://doi.org/10.1016/j.rssm.2022.100692\n",
    "\n",
    "\n",
    "Yurk Quadlin, N. (2015). When children affect parents: Children’s academic performance and parental investment. _Social Science Research_, 52, 671-685. https://doi.org/10.1016/j.ssresearch.2014.10.007\n"
   ]
  },
  {
   "cell_type": "code",
   "execution_count": null,
   "id": "03f4423a-6039-4abd-95db-66f3ca60d96c",
   "metadata": {},
   "outputs": [],
   "source": []
  }
 ],
 "metadata": {
  "kernelspec": {
   "display_name": "R",
   "language": "R",
   "name": "ir"
  },
  "language_info": {
   "codemirror_mode": "r",
   "file_extension": ".r",
   "mimetype": "text/x-r-source",
   "name": "R",
   "pygments_lexer": "r",
   "version": "4.0.5"
  }
 },
 "nbformat": 4,
 "nbformat_minor": 5
}
