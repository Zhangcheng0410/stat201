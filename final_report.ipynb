{
 "cells": [
  {
   "cell_type": "markdown",
   "id": "35ea8b03-1c4a-4063-bc5f-357f696de4dd",
   "metadata": {},
   "source": [
    "# Final Report"
   ]
  },
  {
   "cell_type": "markdown",
   "id": "7851ea35-aa1f-4fdc-8736-4c4bb77049d1",
   "metadata": {},
   "source": [
    "## Title:"
   ]
  },
  {
   "cell_type": "markdown",
   "id": "5d328964-da70-4095-93f9-d4957be81a7f",
   "metadata": {},
   "source": [
    "#### Analysis of whether living in the urban or rural areas affected children's academic performance"
   ]
  },
  {
   "cell_type": "markdown",
   "id": "063be6a8-5ed1-4f65-a596-d223fee265dc",
   "metadata": {},
   "source": [
    "## Introduction:"
   ]
  },
  {
   "cell_type": "markdown",
   "id": "31ec6172-4093-4e1c-beee-2dfccac55094",
   "metadata": {},
   "source": [
    "A constant concern of every parent is their child's performance in terms of grades. How parents’ wealth and resources can shape a child’s achievement academically has been extensively researched by sociologists (Yurk Quadlin 2015). Many parents use their resources to strategically influence children’s educational performance (Bernardi & Grätz 2015). How neighborhood characteristics are significantly associated with children's educational outcomes has also been documented by many pieces of quantitative research (Nieuwenhuis & Hooimeijer 2016). Thus, in this report, we will be discovering and determining whether there are statistically significant differences between the academic performance of the children living in urban areas and those living in rural areas.\n",
    "\n",
    "In this report, we will be working on a dataset named “Go To College Dataset” from Kaggle, which is about whether or not students will continue to go to college based on each student’s background information. The information for each student includes `type_school` the type of school that the student attended during high school, `school_accreditation` the quality of the school, `gender` the gender of the student, `interest` how interested the student is in going to college, `residence` whether they lived in an urban or rural area, `parent_age` age of the student's parents, `parent_salary` the student's parents' salary per month, `house_area` the student's house area in meter square, `average_grades` the student's average of grades in a scale of 0-100, `parent_was_in_college` whether the student's parents were ever in college. In this report, we will be focusing particularly on two columns: `residence` (whether the students lived in an urban or rural area) and `average_grades` (their average grades). \n",
    "\n",
    "Using the programming language R as a tool for our analysis, we will be attempting to answer the research question: <br> **Do students living in urban areas perform significantly better in terms of grades than students living in rural areas?**\n"
   ]
  },
  {
   "cell_type": "markdown",
   "id": "ba86d936-5d4c-4ccd-a70f-2d84719013e2",
   "metadata": {},
   "source": [
    "## Methods and Results:"
   ]
  },
  {
   "cell_type": "markdown",
   "id": "16b6e611-cf96-45a6-b25d-973dc5163d26",
   "metadata": {},
   "source": [
    "### Preliminary Analysis"
   ]
  },
  {
   "cell_type": "code",
   "execution_count": 1,
   "id": "f3eebf56-85d4-4a9b-9dc6-df1e4e955fdb",
   "metadata": {},
   "outputs": [
    {
     "name": "stderr",
     "output_type": "stream",
     "text": [
      "── \u001b[1mAttaching packages\u001b[22m ─────────────────────────────────────── tidyverse 1.3.0 ──\n",
      "\n",
      "\u001b[32m✔\u001b[39m \u001b[34mggplot2\u001b[39m 3.3.6     \u001b[32m✔\u001b[39m \u001b[34mpurrr  \u001b[39m 0.3.4\n",
      "\u001b[32m✔\u001b[39m \u001b[34mtibble \u001b[39m 3.1.7     \u001b[32m✔\u001b[39m \u001b[34mdplyr  \u001b[39m 1.0.9\n",
      "\u001b[32m✔\u001b[39m \u001b[34mtidyr  \u001b[39m 1.2.0     \u001b[32m✔\u001b[39m \u001b[34mstringr\u001b[39m 1.4.0\n",
      "\u001b[32m✔\u001b[39m \u001b[34mreadr  \u001b[39m 2.1.2     \u001b[32m✔\u001b[39m \u001b[34mforcats\u001b[39m 0.5.1\n",
      "\n",
      "── \u001b[1mConflicts\u001b[22m ────────────────────────────────────────── tidyverse_conflicts() ──\n",
      "\u001b[31m✖\u001b[39m \u001b[34mdplyr\u001b[39m::\u001b[32mcombine()\u001b[39m masks \u001b[34mgridExtra\u001b[39m::combine()\n",
      "\u001b[31m✖\u001b[39m \u001b[34mdplyr\u001b[39m::\u001b[32mfilter()\u001b[39m  masks \u001b[34mstats\u001b[39m::filter()\n",
      "\u001b[31m✖\u001b[39m \u001b[34mdplyr\u001b[39m::\u001b[32mlag()\u001b[39m     masks \u001b[34mstats\u001b[39m::lag()\n",
      "\n",
      "Registered S3 method overwritten by 'GGally':\n",
      "  method from   \n",
      "  +.gg   ggplot2\n",
      "\n"
     ]
    }
   ],
   "source": [
    "# run the initial package\n",
    "library(cowplot)\n",
    "library(digest)\n",
    "library(gridExtra)\n",
    "library(infer)\n",
    "library(repr)\n",
    "library(tidyverse)\n",
    "library(datateachr)\n",
    "library(stats)\n",
    "library(dplyr)\n",
    "library(broom)\n",
    "options(repr.matrix.max.rows = 6)\n",
    "library(\"ggplot2\")\n",
    "library(\"GGally\")"
   ]
  },
  {
   "cell_type": "code",
   "execution_count": 2,
   "id": "03ad6883-fbce-454e-820e-3d5bda09f959",
   "metadata": {},
   "outputs": [
    {
     "name": "stderr",
     "output_type": "stream",
     "text": [
      "\u001b[1mRows: \u001b[22m\u001b[34m1000\u001b[39m \u001b[1mColumns: \u001b[22m\u001b[34m11\u001b[39m\n",
      "\u001b[36m──\u001b[39m \u001b[1mColumn specification\u001b[22m \u001b[36m────────────────────────────────────────────────────────\u001b[39m\n",
      "\u001b[1mDelimiter:\u001b[22m \",\"\n",
      "\u001b[31mchr\u001b[39m (5): type_school, school_accreditation, gender, interest, residence\n",
      "\u001b[32mdbl\u001b[39m (4): parent_age, parent_salary, house_area, average_grades\n",
      "\u001b[33mlgl\u001b[39m (2): parent_was_in_college, will_go_to_college\n",
      "\n",
      "\u001b[36mℹ\u001b[39m Use `spec()` to retrieve the full column specification for this data.\n",
      "\u001b[36mℹ\u001b[39m Specify the column types or set `show_col_types = FALSE` to quiet this message.\n"
     ]
    },
    {
     "data": {
      "text/html": [
       "<table class=\"dataframe\">\n",
       "<caption>A spec_tbl_df: 1000 × 11</caption>\n",
       "<thead>\n",
       "\t<tr><th scope=col>type_school</th><th scope=col>school_accreditation</th><th scope=col>gender</th><th scope=col>interest</th><th scope=col>residence</th><th scope=col>parent_age</th><th scope=col>parent_salary</th><th scope=col>house_area</th><th scope=col>average_grades</th><th scope=col>parent_was_in_college</th><th scope=col>will_go_to_college</th></tr>\n",
       "\t<tr><th scope=col>&lt;chr&gt;</th><th scope=col>&lt;chr&gt;</th><th scope=col>&lt;chr&gt;</th><th scope=col>&lt;chr&gt;</th><th scope=col>&lt;chr&gt;</th><th scope=col>&lt;dbl&gt;</th><th scope=col>&lt;dbl&gt;</th><th scope=col>&lt;dbl&gt;</th><th scope=col>&lt;dbl&gt;</th><th scope=col>&lt;lgl&gt;</th><th scope=col>&lt;lgl&gt;</th></tr>\n",
       "</thead>\n",
       "<tbody>\n",
       "\t<tr><td>Academic</td><td>A</td><td>Male  </td><td>Less Interested</td><td>Urban</td><td>56</td><td>6950000</td><td>83.0</td><td>84.09</td><td>FALSE</td><td>TRUE</td></tr>\n",
       "\t<tr><td>Academic</td><td>A</td><td>Male  </td><td>Less Interested</td><td>Urban</td><td>57</td><td>4410000</td><td>76.8</td><td>86.91</td><td>FALSE</td><td>TRUE</td></tr>\n",
       "\t<tr><td>Academic</td><td>B</td><td>Female</td><td>Very Interested</td><td>Urban</td><td>50</td><td>6500000</td><td>80.6</td><td>87.43</td><td>FALSE</td><td>TRUE</td></tr>\n",
       "\t<tr><td>⋮</td><td>⋮</td><td>⋮</td><td>⋮</td><td>⋮</td><td>⋮</td><td>⋮</td><td>⋮</td><td>⋮</td><td>⋮</td><td>⋮</td></tr>\n",
       "\t<tr><td>Vocational</td><td>A</td><td>Male</td><td>Less Interested</td><td>Urban</td><td>49</td><td>5550000</td><td> 75.2</td><td>79.56</td><td>FALSE</td><td> TRUE</td></tr>\n",
       "\t<tr><td>Academic  </td><td>B</td><td>Male</td><td>Uncertain      </td><td>Rural</td><td>53</td><td>5840000</td><td>105.8</td><td>87.18</td><td> TRUE</td><td> TRUE</td></tr>\n",
       "\t<tr><td>Academic  </td><td>B</td><td>Male</td><td>Interested     </td><td>Urban</td><td>50</td><td>2940000</td><td> 69.1</td><td>86.13</td><td> TRUE</td><td>FALSE</td></tr>\n",
       "</tbody>\n",
       "</table>\n"
      ],
      "text/latex": [
       "A spec\\_tbl\\_df: 1000 × 11\n",
       "\\begin{tabular}{lllllllllll}\n",
       " type\\_school & school\\_accreditation & gender & interest & residence & parent\\_age & parent\\_salary & house\\_area & average\\_grades & parent\\_was\\_in\\_college & will\\_go\\_to\\_college\\\\\n",
       " <chr> & <chr> & <chr> & <chr> & <chr> & <dbl> & <dbl> & <dbl> & <dbl> & <lgl> & <lgl>\\\\\n",
       "\\hline\n",
       "\t Academic & A & Male   & Less Interested & Urban & 56 & 6950000 & 83.0 & 84.09 & FALSE & TRUE\\\\\n",
       "\t Academic & A & Male   & Less Interested & Urban & 57 & 4410000 & 76.8 & 86.91 & FALSE & TRUE\\\\\n",
       "\t Academic & B & Female & Very Interested & Urban & 50 & 6500000 & 80.6 & 87.43 & FALSE & TRUE\\\\\n",
       "\t ⋮ & ⋮ & ⋮ & ⋮ & ⋮ & ⋮ & ⋮ & ⋮ & ⋮ & ⋮ & ⋮\\\\\n",
       "\t Vocational & A & Male & Less Interested & Urban & 49 & 5550000 &  75.2 & 79.56 & FALSE &  TRUE\\\\\n",
       "\t Academic   & B & Male & Uncertain       & Rural & 53 & 5840000 & 105.8 & 87.18 &  TRUE &  TRUE\\\\\n",
       "\t Academic   & B & Male & Interested      & Urban & 50 & 2940000 &  69.1 & 86.13 &  TRUE & FALSE\\\\\n",
       "\\end{tabular}\n"
      ],
      "text/markdown": [
       "\n",
       "A spec_tbl_df: 1000 × 11\n",
       "\n",
       "| type_school &lt;chr&gt; | school_accreditation &lt;chr&gt; | gender &lt;chr&gt; | interest &lt;chr&gt; | residence &lt;chr&gt; | parent_age &lt;dbl&gt; | parent_salary &lt;dbl&gt; | house_area &lt;dbl&gt; | average_grades &lt;dbl&gt; | parent_was_in_college &lt;lgl&gt; | will_go_to_college &lt;lgl&gt; |\n",
       "|---|---|---|---|---|---|---|---|---|---|---|\n",
       "| Academic | A | Male   | Less Interested | Urban | 56 | 6950000 | 83.0 | 84.09 | FALSE | TRUE |\n",
       "| Academic | A | Male   | Less Interested | Urban | 57 | 4410000 | 76.8 | 86.91 | FALSE | TRUE |\n",
       "| Academic | B | Female | Very Interested | Urban | 50 | 6500000 | 80.6 | 87.43 | FALSE | TRUE |\n",
       "| ⋮ | ⋮ | ⋮ | ⋮ | ⋮ | ⋮ | ⋮ | ⋮ | ⋮ | ⋮ | ⋮ |\n",
       "| Vocational | A | Male | Less Interested | Urban | 49 | 5550000 |  75.2 | 79.56 | FALSE |  TRUE |\n",
       "| Academic   | B | Male | Uncertain       | Rural | 53 | 5840000 | 105.8 | 87.18 |  TRUE |  TRUE |\n",
       "| Academic   | B | Male | Interested      | Urban | 50 | 2940000 |  69.1 | 86.13 |  TRUE | FALSE |\n",
       "\n"
      ],
      "text/plain": [
       "     type_school school_accreditation gender interest        residence\n",
       "1    Academic    A                    Male   Less Interested Urban    \n",
       "2    Academic    A                    Male   Less Interested Urban    \n",
       "3    Academic    B                    Female Very Interested Urban    \n",
       "⋮    ⋮           ⋮                    ⋮      ⋮               ⋮        \n",
       "998  Vocational  A                    Male   Less Interested Urban    \n",
       "999  Academic    B                    Male   Uncertain       Rural    \n",
       "1000 Academic    B                    Male   Interested      Urban    \n",
       "     parent_age parent_salary house_area average_grades parent_was_in_college\n",
       "1    56         6950000       83.0       84.09          FALSE                \n",
       "2    57         4410000       76.8       86.91          FALSE                \n",
       "3    50         6500000       80.6       87.43          FALSE                \n",
       "⋮    ⋮          ⋮             ⋮          ⋮              ⋮                    \n",
       "998  49         5550000        75.2      79.56          FALSE                \n",
       "999  53         5840000       105.8      87.18           TRUE                \n",
       "1000 50         2940000        69.1      86.13           TRUE                \n",
       "     will_go_to_college\n",
       "1    TRUE              \n",
       "2    TRUE              \n",
       "3    TRUE              \n",
       "⋮    ⋮                 \n",
       "998   TRUE             \n",
       "999   TRUE             \n",
       "1000 FALSE             "
      ]
     },
     "metadata": {},
     "output_type": "display_data"
    }
   ],
   "source": [
    "# Load dataset\n",
    "download.file(\"https://raw.githubusercontent.com/Zhangcheng0410/stat201/main/data.csv\", destfile=\"data.csv\")\n",
    "\n",
    "studentset_original <- read_csv(\"data.csv\")\n",
    "\n",
    "studentset_original"
   ]
  },
  {
   "cell_type": "markdown",
   "id": "4602c697-9b4b-453f-9f36-da83412fed1d",
   "metadata": {},
   "source": [
    "#### Wrangling Data"
   ]
  },
  {
   "cell_type": "code",
   "execution_count": 3,
   "id": "0c7e1c25-a8b3-420c-99d7-43d9655a85a3",
   "metadata": {},
   "outputs": [],
   "source": [
    "# drop the null column in data\n",
    "studentset <- studentset_original %>%\n",
    "    filter(!is.na(residence))%>%\n",
    "    filter(!is.na(average_grades))"
   ]
  },
  {
   "cell_type": "markdown",
   "id": "e5eab75f-ac31-475b-ac8a-3cf089cf2bce",
   "metadata": {},
   "source": [
    "Checked whether the data contained missing data. After filtering out the NA the data now does not contain null values."
   ]
  },
  {
   "cell_type": "code",
   "execution_count": 4,
   "id": "d56de90f-116e-4433-99f2-81f0d8ee7d5e",
   "metadata": {},
   "outputs": [
    {
     "data": {
      "text/html": [
       "<table class=\"dataframe\">\n",
       "<caption>A tibble: 1 × 2</caption>\n",
       "<thead>\n",
       "\t<tr><th scope=col>prop_urban</th><th scope=col>prop_rural</th></tr>\n",
       "\t<tr><th scope=col>&lt;dbl&gt;</th><th scope=col>&lt;dbl&gt;</th></tr>\n",
       "</thead>\n",
       "<tbody>\n",
       "\t<tr><td>0.539</td><td>0.461</td></tr>\n",
       "</tbody>\n",
       "</table>\n"
      ],
      "text/latex": [
       "A tibble: 1 × 2\n",
       "\\begin{tabular}{ll}\n",
       " prop\\_urban & prop\\_rural\\\\\n",
       " <dbl> & <dbl>\\\\\n",
       "\\hline\n",
       "\t 0.539 & 0.461\\\\\n",
       "\\end{tabular}\n"
      ],
      "text/markdown": [
       "\n",
       "A tibble: 1 × 2\n",
       "\n",
       "| prop_urban &lt;dbl&gt; | prop_rural &lt;dbl&gt; |\n",
       "|---|---|\n",
       "| 0.539 | 0.461 |\n",
       "\n"
      ],
      "text/plain": [
       "  prop_urban prop_rural\n",
       "1 0.539      0.461     "
      ]
     },
     "metadata": {},
     "output_type": "display_data"
    }
   ],
   "source": [
    "# compare the distribution of urban and rural\n",
    "urban_prop <- studentset%>%\n",
    "    summarize(prop_urban= mean(residence==\"Urban\"), prop_rural= mean(residence==\"Rural\"))\n",
    "urban_prop\n",
    "    "
   ]
  },
  {
   "cell_type": "markdown",
   "id": "d0b9000f-32a1-4897-bea9-c1fd117dc26a",
   "metadata": {},
   "source": [
    "With the `summarize()` function above, we can see that the distribution of students living in an urban area and a rural area are roughly even, so class imbalance does not exist and the data is representative enough. "
   ]
  },
  {
   "cell_type": "code",
   "execution_count": 5,
   "id": "8f7f78bc-d987-4721-804f-b051aa02a45e",
   "metadata": {},
   "outputs": [
    {
     "data": {
      "text/html": [
       "<table class=\"dataframe\">\n",
       "<caption>A tibble: 6 × 2</caption>\n",
       "<thead>\n",
       "\t<tr><th scope=col>residence</th><th scope=col>average_grades</th></tr>\n",
       "\t<tr><th scope=col>&lt;chr&gt;</th><th scope=col>&lt;dbl&gt;</th></tr>\n",
       "</thead>\n",
       "<tbody>\n",
       "\t<tr><td>Urban</td><td>84.09</td></tr>\n",
       "\t<tr><td>Urban</td><td>86.91</td></tr>\n",
       "\t<tr><td>Urban</td><td>87.43</td></tr>\n",
       "\t<tr><td>Urban</td><td>86.79</td></tr>\n",
       "\t<tr><td>Urban</td><td>84.09</td></tr>\n",
       "\t<tr><td>Urban</td><td>89.71</td></tr>\n",
       "</tbody>\n",
       "</table>\n"
      ],
      "text/latex": [
       "A tibble: 6 × 2\n",
       "\\begin{tabular}{ll}\n",
       " residence & average\\_grades\\\\\n",
       " <chr> & <dbl>\\\\\n",
       "\\hline\n",
       "\t Urban & 84.09\\\\\n",
       "\t Urban & 86.91\\\\\n",
       "\t Urban & 87.43\\\\\n",
       "\t Urban & 86.79\\\\\n",
       "\t Urban & 84.09\\\\\n",
       "\t Urban & 89.71\\\\\n",
       "\\end{tabular}\n"
      ],
      "text/markdown": [
       "\n",
       "A tibble: 6 × 2\n",
       "\n",
       "| residence &lt;chr&gt; | average_grades &lt;dbl&gt; |\n",
       "|---|---|\n",
       "| Urban | 84.09 |\n",
       "| Urban | 86.91 |\n",
       "| Urban | 87.43 |\n",
       "| Urban | 86.79 |\n",
       "| Urban | 84.09 |\n",
       "| Urban | 89.71 |\n",
       "\n"
      ],
      "text/plain": [
       "  residence average_grades\n",
       "1 Urban     84.09         \n",
       "2 Urban     86.91         \n",
       "3 Urban     87.43         \n",
       "4 Urban     86.79         \n",
       "5 Urban     84.09         \n",
       "6 Urban     89.71         "
      ]
     },
     "metadata": {},
     "output_type": "display_data"
    },
    {
     "data": {
      "text/html": [
       "<table class=\"dataframe\">\n",
       "<caption>A tibble: 1 × 2</caption>\n",
       "<thead>\n",
       "\t<tr><th scope=col>mean</th><th scope=col>median</th></tr>\n",
       "\t<tr><th scope=col>&lt;dbl&gt;</th><th scope=col>&lt;dbl&gt;</th></tr>\n",
       "</thead>\n",
       "<tbody>\n",
       "\t<tr><td>85.41506</td><td>85.09</td></tr>\n",
       "</tbody>\n",
       "</table>\n"
      ],
      "text/latex": [
       "A tibble: 1 × 2\n",
       "\\begin{tabular}{ll}\n",
       " mean & median\\\\\n",
       " <dbl> & <dbl>\\\\\n",
       "\\hline\n",
       "\t 85.41506 & 85.09\\\\\n",
       "\\end{tabular}\n"
      ],
      "text/markdown": [
       "\n",
       "A tibble: 1 × 2\n",
       "\n",
       "| mean &lt;dbl&gt; | median &lt;dbl&gt; |\n",
       "|---|---|\n",
       "| 85.41506 | 85.09 |\n",
       "\n"
      ],
      "text/plain": [
       "  mean     median\n",
       "1 85.41506 85.09 "
      ]
     },
     "metadata": {},
     "output_type": "display_data"
    }
   ],
   "source": [
    "# calculate the mean and median of average grades from unban student\n",
    "student_urban <- studentset%>%\n",
    "    filter(residence==\"Urban\")%>%\n",
    "    select(residence, average_grades)\n",
    "urban_mean_median <- student_urban%>%\n",
    "    summarize(mean= mean(average_grades), median=median(average_grades))\n",
    "head(student_urban)\n",
    "urban_mean_median "
   ]
  },
  {
   "cell_type": "markdown",
   "id": "80c72a99-9b8b-4f50-9cd9-9188bffcc450",
   "metadata": {},
   "source": [
    "The mean of students from urban is 85.41506, and the median is 85.09."
   ]
  },
  {
   "cell_type": "code",
   "execution_count": 6,
   "id": "db2b6a47-5906-4e7a-9c32-303cd60f0251",
   "metadata": {},
   "outputs": [
    {
     "data": {
      "text/html": [
       "<table class=\"dataframe\">\n",
       "<caption>A tibble: 6 × 2</caption>\n",
       "<thead>\n",
       "\t<tr><th scope=col>residence</th><th scope=col>average_grades</th></tr>\n",
       "\t<tr><th scope=col>&lt;chr&gt;</th><th scope=col>&lt;dbl&gt;</th></tr>\n",
       "</thead>\n",
       "<tbody>\n",
       "\t<tr><td>Rural</td><td>82.12</td></tr>\n",
       "\t<tr><td>Rural</td><td>86.79</td></tr>\n",
       "\t<tr><td>Rural</td><td>90.39</td></tr>\n",
       "\t<tr><td>Rural</td><td>84.65</td></tr>\n",
       "\t<tr><td>Rural</td><td>88.50</td></tr>\n",
       "\t<tr><td>Rural</td><td>85.43</td></tr>\n",
       "</tbody>\n",
       "</table>\n"
      ],
      "text/latex": [
       "A tibble: 6 × 2\n",
       "\\begin{tabular}{ll}\n",
       " residence & average\\_grades\\\\\n",
       " <chr> & <dbl>\\\\\n",
       "\\hline\n",
       "\t Rural & 82.12\\\\\n",
       "\t Rural & 86.79\\\\\n",
       "\t Rural & 90.39\\\\\n",
       "\t Rural & 84.65\\\\\n",
       "\t Rural & 88.50\\\\\n",
       "\t Rural & 85.43\\\\\n",
       "\\end{tabular}\n"
      ],
      "text/markdown": [
       "\n",
       "A tibble: 6 × 2\n",
       "\n",
       "| residence &lt;chr&gt; | average_grades &lt;dbl&gt; |\n",
       "|---|---|\n",
       "| Rural | 82.12 |\n",
       "| Rural | 86.79 |\n",
       "| Rural | 90.39 |\n",
       "| Rural | 84.65 |\n",
       "| Rural | 88.50 |\n",
       "| Rural | 85.43 |\n",
       "\n"
      ],
      "text/plain": [
       "  residence average_grades\n",
       "1 Rural     82.12         \n",
       "2 Rural     86.79         \n",
       "3 Rural     90.39         \n",
       "4 Rural     84.65         \n",
       "5 Rural     88.50         \n",
       "6 Rural     85.43         "
      ]
     },
     "metadata": {},
     "output_type": "display_data"
    },
    {
     "data": {
      "text/html": [
       "<table class=\"dataframe\">\n",
       "<caption>A tibble: 1 × 2</caption>\n",
       "<thead>\n",
       "\t<tr><th scope=col>mean</th><th scope=col>median</th></tr>\n",
       "\t<tr><th scope=col>&lt;dbl&gt;</th><th scope=col>&lt;dbl&gt;</th></tr>\n",
       "</thead>\n",
       "<tbody>\n",
       "\t<tr><td>86.89475</td><td>86.33</td></tr>\n",
       "</tbody>\n",
       "</table>\n"
      ],
      "text/latex": [
       "A tibble: 1 × 2\n",
       "\\begin{tabular}{ll}\n",
       " mean & median\\\\\n",
       " <dbl> & <dbl>\\\\\n",
       "\\hline\n",
       "\t 86.89475 & 86.33\\\\\n",
       "\\end{tabular}\n"
      ],
      "text/markdown": [
       "\n",
       "A tibble: 1 × 2\n",
       "\n",
       "| mean &lt;dbl&gt; | median &lt;dbl&gt; |\n",
       "|---|---|\n",
       "| 86.89475 | 86.33 |\n",
       "\n"
      ],
      "text/plain": [
       "  mean     median\n",
       "1 86.89475 86.33 "
      ]
     },
     "metadata": {},
     "output_type": "display_data"
    }
   ],
   "source": [
    "# calculate the mean and median of average grades from rural student\n",
    "student_rural <- studentset %>%\n",
    "    filter(residence==\"Rural\") %>%\n",
    "    select(residence, average_grades)\n",
    "rural_mean_median <- student_rural %>%\n",
    "    summarize(mean= mean(average_grades), median=median(average_grades))\n",
    "head(student_rural)\n",
    "rural_mean_median  "
   ]
  },
  {
   "cell_type": "markdown",
   "id": "c308f0a4-b18d-4374-82a5-3d4a8925e0f4",
   "metadata": {},
   "source": [
    "#### Visualize Data"
   ]
  },
  {
   "cell_type": "markdown",
   "id": "a13e4baa-a80e-431b-af5c-74fcf82511c5",
   "metadata": {},
   "source": [
    "The mean of students from rural is 86.89475, and the median is 86.33."
   ]
  },
  {
   "cell_type": "code",
   "execution_count": 7,
   "id": "7ce0e698-2fb6-4f3f-a289-6ff33c5760bf",
   "metadata": {},
   "outputs": [
    {
     "name": "stderr",
     "output_type": "stream",
     "text": [
      "Warning message:\n",
      "“Removed 2 rows containing missing values (geom_bar).”\n",
      "Warning message:\n",
      "“Removed 2 rows containing missing values (geom_bar).”\n"
     ]
    },
    {
     "data": {
      "image/png": "[encoded data removed]",
      "text/plain": [
       "plot without title"
      ]
     },
     "metadata": {
      "image/png": {
       "height": 600,
       "width": 600
      }
     },
     "output_type": "display_data"
    }
   ],
   "source": [
    "# visualize each median and mean from urban and rural dataset\n",
    "options(repr.plot.width = 10, repr.plot.height = 10)\n",
    "urban_plot <- student_urban %>%\n",
    "    ggplot(aes(x= average_grades))+\n",
    "    geom_histogram(binwidth=0.9, color=\"white\")+\n",
    "    labs(title=\"Figure1.1 The Distribution of Urban Students\", x=\"average grades\", y=\"count\")+\n",
    "    geom_vline(xintercept = urban_mean_median$mean,\n",
    "                color = \"blue\", size=1.5)+\n",
    "    geom_text(aes(x=87, y= 80, label = \"mean\"), colour = \"blue\", vjust = 1, size = 7)+ \n",
    "    geom_vline(xintercept = urban_mean_median$median, \n",
    "                color = \"red\", size=1.5)+\n",
    "    geom_text(aes(x=83.5, y= 80, label = \"median\"), colour = \"red\", vjust = 1, size = 7)\n",
    "\n",
    "rural_plot <- student_rural %>%\n",
    "    ggplot(aes(x= average_grades))+\n",
    "    geom_histogram(binwidth=0.9, color=\"white\")+\n",
    "    labs(title=\"Figure1.2 The Distribution of Rural Students\", x=\"average grades\",y=\"count\")+\n",
    "    geom_vline(xintercept = rural_mean_median$mean,\n",
    "                color = \"blue\", size=1.5)+\n",
    "    geom_text(aes(x=88.5, y= 80, label = \"mean\"), colour = \"blue\", vjust = 1, size = 7)+ \n",
    "    geom_vline(xintercept = rural_mean_median$median, \n",
    "                color = \"red\", size=1.5)+\n",
    "    geom_text(aes(x=84.5, y= 80, label = \"median\"), colour = \"red\", vjust = 1, size = 7)\n",
    "\n",
    "proportion_plot_row <- plot_grid(urban_plot +\n",
    "                                 scale_x_continuous(limits = c(70, 100)),\n",
    "                                 rural_plot +\n",
    "                                 scale_x_continuous(limits = c(70, 100)),\n",
    "                                 ncol = 1)\n",
    "means_grid <- plot_grid(proportion_plot_row)\n",
    "                        # ncol = 1,\n",
    "                        # rel_heights = c(1, 10))\n",
    "\n",
    "means_grid"
   ]
  },
  {
   "cell_type": "markdown",
   "id": "b70880e9-2eaa-429e-a4c0-f59eb65094fc",
   "metadata": {},
   "source": [
    "We can compare the distribution of the two groups of students from the above histograms. Students living in urban areas have both a slightly lower median and a slightly lower mean compared to those living in rural areas."
   ]
  },
  {
   "cell_type": "code",
   "execution_count": 9,
   "id": "0794119a-306b-44f6-9a24-8cc8cf5b05c6",
   "metadata": {},
   "outputs": [
    {
     "data": {
      "text/html": [
       "<table class=\"dataframe\">\n",
       "<caption>A tibble: 1000 × 2</caption>\n",
       "<thead>\n",
       "\t<tr><th scope=col>residence</th><th scope=col>average_grades</th></tr>\n",
       "\t<tr><th scope=col>&lt;chr&gt;</th><th scope=col>&lt;dbl&gt;</th></tr>\n",
       "</thead>\n",
       "<tbody>\n",
       "\t<tr><td>Urban</td><td>84.09</td></tr>\n",
       "\t<tr><td>Urban</td><td>86.91</td></tr>\n",
       "\t<tr><td>Urban</td><td>87.43</td></tr>\n",
       "\t<tr><td>⋮</td><td>⋮</td></tr>\n",
       "\t<tr><td>Urban</td><td>79.56</td></tr>\n",
       "\t<tr><td>Rural</td><td>87.18</td></tr>\n",
       "\t<tr><td>Urban</td><td>86.13</td></tr>\n",
       "</tbody>\n",
       "</table>\n"
      ],
      "text/latex": [
       "A tibble: 1000 × 2\n",
       "\\begin{tabular}{ll}\n",
       " residence & average\\_grades\\\\\n",
       " <chr> & <dbl>\\\\\n",
       "\\hline\n",
       "\t Urban & 84.09\\\\\n",
       "\t Urban & 86.91\\\\\n",
       "\t Urban & 87.43\\\\\n",
       "\t ⋮ & ⋮\\\\\n",
       "\t Urban & 79.56\\\\\n",
       "\t Rural & 87.18\\\\\n",
       "\t Urban & 86.13\\\\\n",
       "\\end{tabular}\n"
      ],
      "text/markdown": [
       "\n",
       "A tibble: 1000 × 2\n",
       "\n",
       "| residence &lt;chr&gt; | average_grades &lt;dbl&gt; |\n",
       "|---|---|\n",
       "| Urban | 84.09 |\n",
       "| Urban | 86.91 |\n",
       "| Urban | 87.43 |\n",
       "| ⋮ | ⋮ |\n",
       "| Urban | 79.56 |\n",
       "| Rural | 87.18 |\n",
       "| Urban | 86.13 |\n",
       "\n"
      ],
      "text/plain": [
       "     residence average_grades\n",
       "1    Urban     84.09         \n",
       "2    Urban     86.91         \n",
       "3    Urban     87.43         \n",
       "⋮    ⋮         ⋮             \n",
       "998  Urban     79.56         \n",
       "999  Rural     87.18         \n",
       "1000 Urban     86.13         "
      ]
     },
     "metadata": {},
     "output_type": "display_data"
    }
   ],
   "source": [
    "# select two useful columns: students' residence and average score \n",
    "student_total<- studentset%>%\n",
    "    select(residence, average_grades)\n",
    "\n",
    "student_total"
   ]
  },
  {
   "cell_type": "code",
   "execution_count": 10,
   "id": "34e6658d-6553-4a83-881d-e82d27f48fb8",
   "metadata": {},
   "outputs": [
    {
     "data": {
      "image/png": "[encoded data removed]",
      "text/plain": [
       "plot without title"
      ]
     },
     "metadata": {
      "image/png": {
       "height": 600,
       "width": 600
      }
     },
     "output_type": "display_data"
    }
   ],
   "source": [
    "# compare two groups of student distribution \n",
    "average_grade_boxplots <-\n",
    "    student_total %>% \n",
    "    ggplot() +\n",
    "    geom_boxplot(aes(x=residence, y=average_grades, fill = residence)) +\n",
    "    theme(text = element_text(size = 15)) +\n",
    "    ggtitle(\"Figure1.3 The boxplot of the average grades of two groups of student\") + \n",
    "    xlab(\"Residences\") + \n",
    "    ylab(\"Average Grades)\")\n",
    "\n",
    "average_grade_boxplots"
   ]
  },
  {
   "cell_type": "markdown",
   "id": "33702a2d-8eed-4b32-8d63-514e050c90d7",
   "metadata": {},
   "source": [
    "We can also visualize the distribution of the two groups of students from the above boxplot. Students living in rural areas have a slightly larger range, a slightly greater mean, and a slightly larger median compared to those living in urban areas."
   ]
  },
  {
   "cell_type": "markdown",
   "id": "7360fb5c-18ad-470b-b361-ff76e660026b",
   "metadata": {},
   "source": [
    "### Hypothesis Testing"
   ]
  },
  {
   "cell_type": "markdown",
   "id": "9823f4ab-d9ce-4c75-801c-650e9e3095f5",
   "metadata": {},
   "source": [
    "We want to test whether the`residence` (whether the students lived in an urban or rural area) column statistical significantly influences the students' `average_grades`. We guess students living in rural areas have better academic performance than those living in urban areas."
   ]
  },
  {
   "cell_type": "markdown",
   "id": "e3c502cf-43ec-4886-b930-0ee8e0243280",
   "metadata": {},
   "source": [
    "For the purpose of our study, the median and mean values of `average_grades` with students from urban and rural areas separated into two groups, `student_urban` and `student_rural`, would be most suitable to investigate and ultimately test the our claim. "
   ]
  },
  {
   "cell_type": "markdown",
   "id": "eb049d14-8ec6-4883-9c67-694d1af2b529",
   "metadata": {},
   "source": [
    "We want to study how the `average_grades` of students from urban and rural areas are statistically different. For now, let us focus on the mean of the average grades. We want to test hypotheses on the mean at the 5% significance level. "
   ]
  },
  {
   "cell_type": "markdown",
   "id": "59760e8d-a408-4a90-87d2-75eae336e883",
   "metadata": {},
   "source": [
    "First, let's conduct a hypothesis test to examine whether the means of the students' `average_grades` are statistical significantly different between the urban group and the rural group. <br>\n",
    "Our two hypotheses is as follow:\n",
    "\n",
    "$H_0$: The mean of students' score from rural is same as the mean of students' score from urban.\n",
    "\n",
    "$H_1$: The mean of students' score from rural is larger than the mean of students' score from urban."
   ]
  },
  {
   "cell_type": "markdown",
   "id": "b351f46f-e610-4439-b118-09e5fcfc10f7",
   "metadata": {},
   "source": [
    "#### Bootstrapping Method: Plan"
   ]
  },
  {
   "cell_type": "markdown",
   "id": "1d6ebb57-7cbb-4ef4-8f05-0513011e9275",
   "metadata": {},
   "source": [
    "We want to compare the mean of the `average_grades` between the students living in urban areas and rural areas by repeatedly doing bootstrap sampling on the original sample, generating a confidence interval for the mean of `average_grades`, and then verifying whether our null hypothesis that the `average_grades` are the same for both groups of students is true."
   ]
  },
  {
   "cell_type": "code",
   "execution_count": 11,
   "id": "3fb99a9e-e185-45cb-8087-bb65e03e1a8d",
   "metadata": {},
   "outputs": [
    {
     "data": {
      "text/html": [
       "<table class=\"dataframe\">\n",
       "<caption>A tibble: 1 × 1</caption>\n",
       "<thead>\n",
       "\t<tr><th scope=col>stat</th></tr>\n",
       "\t<tr><th scope=col>&lt;dbl&gt;</th></tr>\n",
       "</thead>\n",
       "<tbody>\n",
       "\t<tr><td>1.479686</td></tr>\n",
       "</tbody>\n",
       "</table>\n"
      ],
      "text/latex": [
       "A tibble: 1 × 1\n",
       "\\begin{tabular}{l}\n",
       " stat\\\\\n",
       " <dbl>\\\\\n",
       "\\hline\n",
       "\t 1.479686\\\\\n",
       "\\end{tabular}\n"
      ],
      "text/markdown": [
       "\n",
       "A tibble: 1 × 1\n",
       "\n",
       "| stat &lt;dbl&gt; |\n",
       "|---|\n",
       "| 1.479686 |\n",
       "\n"
      ],
      "text/plain": [
       "  stat    \n",
       "1 1.479686"
      ]
     },
     "metadata": {},
     "output_type": "display_data"
    }
   ],
   "source": [
    "# first calculate the observed test statistic\n",
    "obs_diff_in_means <- \n",
    "    student_total%>%\n",
    "    specify(formula=average_grades~residence)%>%\n",
    "    calculate(stat= \"diff in means\", order= c(\"Rural\", \"Urban\"))\n",
    "obs_diff_in_means"
   ]
  },
  {
   "cell_type": "markdown",
   "id": "12899527-335e-42a3-ac56-1f78eabe2594",
   "metadata": {},
   "source": [
    "The test statistic value is 1.479686."
   ]
  },
  {
   "cell_type": "markdown",
   "id": "8da698be-4f66-4805-989b-158e5153ae48",
   "metadata": {},
   "source": [
    "##### Finding the p-value"
   ]
  },
  {
   "cell_type": "code",
   "execution_count": 12,
   "id": "46a75fbd-0d24-455b-90c3-4bd617a3c296",
   "metadata": {},
   "outputs": [],
   "source": [
    "set.seed(123)\n",
    "# Using the infer package, generate 1000 samples from the null distribution\n",
    "null_model_students_mean <-  \n",
    "   studentset %>%\n",
    "   specify(formula = average_grades ~ residence) %>% \n",
    "   hypothesize(null = \"independence\") %>% \n",
    "   generate(reps = 1000, type = \"permute\") %>% \n",
    "   calculate(stat=\"diff in means\", order = c(\"Rural\", \"Urban\"))"
   ]
  },
  {
   "cell_type": "code",
   "execution_count": 13,
   "id": "9ec550cf-2e7d-428b-8df2-0c9135e5d2e5",
   "metadata": {},
   "outputs": [
    {
     "data": {
      "image/png": "[encoded data removed]",
      "text/plain": [
       "plot without title"
      ]
     },
     "metadata": {
      "image/png": {
       "height": 600,
       "width": 600
      }
     },
     "output_type": "display_data"
    }
   ],
   "source": [
    "#Plot the result of the hypothesis test with `visualize` with 10 bins, put a vertical bar for the observed test \n",
    "result_plot_students <- \n",
    "   null_model_students_mean %>%\n",
    "   visualize() + \n",
    "   shade_p_value(obs_stat = obs_diff_in_means, direction = \"right\") +\n",
    "   labs(x = \"Mean Difference in Average Grades of Two Groups of Students\")+\n",
    "   ggtitle(\"Figure2.1 Null Distribution\")+\n",
    "   theme(text = element_text(size = 15))\n",
    "\n",
    "result_plot_students"
   ]
  },
  {
   "cell_type": "code",
   "execution_count": 14,
   "id": "ca57ace0-d249-44d6-95f0-61daab85b515",
   "metadata": {},
   "outputs": [
    {
     "name": "stderr",
     "output_type": "stream",
     "text": [
      "Warning message:\n",
      "“Please be cautious in reporting a p-value of 0. This result is an approximation based on the number of `reps` chosen in the `generate()` step. See `?get_p_value()` for more information.”\n"
     ]
    },
    {
     "name": "stdout",
     "output_type": "stream",
     "text": [
      "P value is:  0"
     ]
    }
   ],
   "source": [
    "# calculate p-value\n",
    "p_value_mean_students <- \n",
    "    null_model_students_mean %>% \n",
    "    get_p_value(obs_stat = obs_diff_in_means, direction = \"right\") %>%\n",
    "    pull()\n",
    "\n",
    "cat(\"P value is: \", p_value_mean_students)"
   ]
  },
  {
   "cell_type": "markdown",
   "id": "26d9f065-2f93-460c-8bdb-4afb1aaa1c84",
   "metadata": {},
   "source": [
    "This reported p value of 0 is less than our significance level 0.05.<br>With this `get_p_value()` function above, we obtain a computed p-value of 0. However, we should never report a p-value of 0 because this suggests that making a Type I error is impossible. Therefore, we can conclude that the real p-value is a number very close to 0 but not equal to 0."
   ]
  },
  {
   "cell_type": "markdown",
   "id": "037b255e-fef6-496b-9515-2d10a4b17854",
   "metadata": {},
   "source": [
    "##### Finding the 95% Confidence Interval"
   ]
  },
  {
   "cell_type": "code",
   "execution_count": 15,
   "id": "fa575cd0-dd46-4463-bc02-ec6317248955",
   "metadata": {},
   "outputs": [
    {
     "name": "stderr",
     "output_type": "stream",
     "text": [
      "Warning message:\n",
      "“You have given `type = \"bootstrap\"`, but `type` is expected to be `\"permute\"`. This workflow is untested and the results may not mean what you think they mean.”\n"
     ]
    },
    {
     "data": {
      "text/html": [
       "<table class=\"dataframe\">\n",
       "<caption>A tibble: 1 × 2</caption>\n",
       "<thead>\n",
       "\t<tr><th scope=col>lower_ci</th><th scope=col>upper_ci</th></tr>\n",
       "\t<tr><th scope=col>&lt;dbl&gt;</th><th scope=col>&lt;dbl&gt;</th></tr>\n",
       "</thead>\n",
       "<tbody>\n",
       "\t<tr><td>1.042089</td><td>1.926108</td></tr>\n",
       "</tbody>\n",
       "</table>\n"
      ],
      "text/latex": [
       "A tibble: 1 × 2\n",
       "\\begin{tabular}{ll}\n",
       " lower\\_ci & upper\\_ci\\\\\n",
       " <dbl> & <dbl>\\\\\n",
       "\\hline\n",
       "\t 1.042089 & 1.926108\\\\\n",
       "\\end{tabular}\n"
      ],
      "text/markdown": [
       "\n",
       "A tibble: 1 × 2\n",
       "\n",
       "| lower_ci &lt;dbl&gt; | upper_ci &lt;dbl&gt; |\n",
       "|---|---|\n",
       "| 1.042089 | 1.926108 |\n",
       "\n"
      ],
      "text/plain": [
       "  lower_ci upper_ci\n",
       "1 1.042089 1.926108"
      ]
     },
     "metadata": {},
     "output_type": "display_data"
    }
   ],
   "source": [
    "set.seed(123)\n",
    "# find the bootstrap distribution for the difference in means in 1000 samples with the infer package\n",
    "interval_students_mean <-  \n",
    "   studentset %>%\n",
    "   specify(formula = average_grades ~ residence) %>% \n",
    "   hypothesize(null = \"independence\") %>% \n",
    "   generate(reps = 1000, type = \"bootstrap\") %>% \n",
    "   calculate(stat=\"diff in means\", order = c(\"Rural\", \"Urban\"))\n",
    "\n",
    "# find the 95% confidence interval\n",
    "mean_max_flow_ci <- \n",
    "    interval_students_mean%>% \n",
    "    get_confidence_interval(level = 0.975, type = \"percentile\")\n",
    "\n",
    "mean_max_flow_ci"
   ]
  },
  {
   "cell_type": "markdown",
   "id": "e874d79e-3e72-4ccb-9cb3-5c6ea699526b",
   "metadata": {},
   "source": [
    "The 95% confidence interval of the difference between the mean `average_grades` between the two student groups ranges from 1.042089 to 1.926108.\n"
   ]
  },
  {
   "cell_type": "code",
   "execution_count": 16,
   "id": "ac9df878-83c3-4377-882c-2ac54695f3d3",
   "metadata": {},
   "outputs": [
    {
     "data": {
      "image/png": "[encoded data removed]",
      "text/plain": [
       "plot without title"
      ]
     },
     "metadata": {
      "image/png": {
       "height": 600,
       "width": 600
      }
     },
     "output_type": "display_data"
    }
   ],
   "source": [
    "# Visualize the confidence interval\n",
    "diff_in_means_ci_plot <- visualize(interval_students_mean) + \n",
    "    shade_confidence_interval(endpoints = mean_max_flow_ci)+\n",
    "    xlab(\"mean of difference\")+\n",
    "    ggtitle(\"Figure2.2 Bootstrap Distribution\")+\n",
    "    theme(text = element_text(size = 15))\n",
    "\n",
    "diff_in_means_ci_plot"
   ]
  },
  {
   "cell_type": "markdown",
   "id": "979e74d0-b884-4e3e-b63c-2fcbc115ba0c",
   "metadata": {},
   "source": [
    "##### Bootstrapping Method: Conclusion"
   ]
  },
  {
   "cell_type": "markdown",
   "id": "a878a48c-efda-40bc-99d3-c4a4e285ca20",
   "metadata": {},
   "source": [
    "By visualizing the 95% confidence interval and computing the p-value, we should reject the null hypothesis because first the 95% confidence interval ranges from 1.042089 to 1.926108, which does not include 0, and second, the p value we calculated is nearly 0, which is less than our significance level 0.05. From our test above we can conclude that the mean of students' score from the rural group is not the same as the mean of students' score from the urban group, and thus we should accept the althernate H1 hypothesis, and conclude that the mean of students' score from the rural group is larger than the mean of students' score from the urban group."
   ]
  },
  {
   "cell_type": "markdown",
   "id": "a94a07ab-99c7-42af-b379-114410a2a1e2",
   "metadata": {},
   "source": [
    "#### Two sample t-test Method"
   ]
  },
  {
   "cell_type": "code",
   "execution_count": 17,
   "id": "2a3892d7-b01a-4ce0-8852-b4281f6a3c7d",
   "metadata": {},
   "outputs": [
    {
     "data": {
      "text/html": [
       "<table class=\"dataframe\">\n",
       "<caption>A tibble: 1000 × 2</caption>\n",
       "<thead>\n",
       "\t<tr><th scope=col>residence</th><th scope=col>average_grades</th></tr>\n",
       "\t<tr><th scope=col>&lt;chr&gt;</th><th scope=col>&lt;dbl&gt;</th></tr>\n",
       "</thead>\n",
       "<tbody>\n",
       "\t<tr><td>Urban</td><td>84.09</td></tr>\n",
       "\t<tr><td>Urban</td><td>86.91</td></tr>\n",
       "\t<tr><td>Urban</td><td>87.43</td></tr>\n",
       "\t<tr><td>⋮</td><td>⋮</td></tr>\n",
       "\t<tr><td>Urban</td><td>79.56</td></tr>\n",
       "\t<tr><td>Rural</td><td>87.18</td></tr>\n",
       "\t<tr><td>Urban</td><td>86.13</td></tr>\n",
       "</tbody>\n",
       "</table>\n"
      ],
      "text/latex": [
       "A tibble: 1000 × 2\n",
       "\\begin{tabular}{ll}\n",
       " residence & average\\_grades\\\\\n",
       " <chr> & <dbl>\\\\\n",
       "\\hline\n",
       "\t Urban & 84.09\\\\\n",
       "\t Urban & 86.91\\\\\n",
       "\t Urban & 87.43\\\\\n",
       "\t ⋮ & ⋮\\\\\n",
       "\t Urban & 79.56\\\\\n",
       "\t Rural & 87.18\\\\\n",
       "\t Urban & 86.13\\\\\n",
       "\\end{tabular}\n"
      ],
      "text/markdown": [
       "\n",
       "A tibble: 1000 × 2\n",
       "\n",
       "| residence &lt;chr&gt; | average_grades &lt;dbl&gt; |\n",
       "|---|---|\n",
       "| Urban | 84.09 |\n",
       "| Urban | 86.91 |\n",
       "| Urban | 87.43 |\n",
       "| ⋮ | ⋮ |\n",
       "| Urban | 79.56 |\n",
       "| Rural | 87.18 |\n",
       "| Urban | 86.13 |\n",
       "\n"
      ],
      "text/plain": [
       "     residence average_grades\n",
       "1    Urban     84.09         \n",
       "2    Urban     86.91         \n",
       "3    Urban     87.43         \n",
       "⋮    ⋮         ⋮             \n",
       "998  Urban     79.56         \n",
       "999  Rural     87.18         \n",
       "1000 Urban     86.13         "
      ]
     },
     "metadata": {},
     "output_type": "display_data"
    }
   ],
   "source": [
    "student_total"
   ]
  },
  {
   "cell_type": "code",
   "execution_count": 18,
   "id": "5569bc25-5aed-41fe-a623-f5776911c197",
   "metadata": {},
   "outputs": [
    {
     "data": {
      "text/html": [
       "<table class=\"dataframe\">\n",
       "<caption>A tibble: 2 × 4</caption>\n",
       "<thead>\n",
       "\t<tr><th scope=col>residence</th><th scope=col>sample_mean</th><th scope=col>sample_var</th><th scope=col>n</th></tr>\n",
       "\t<tr><th scope=col>&lt;chr&gt;</th><th scope=col>&lt;dbl&gt;</th><th scope=col>&lt;dbl&gt;</th><th scope=col>&lt;int&gt;</th></tr>\n",
       "</thead>\n",
       "<tbody>\n",
       "\t<tr><td>Rural</td><td>86.89475</td><td>12.703392</td><td>461</td></tr>\n",
       "\t<tr><td>Urban</td><td>85.41506</td><td> 9.325018</td><td>539</td></tr>\n",
       "</tbody>\n",
       "</table>\n"
      ],
      "text/latex": [
       "A tibble: 2 × 4\n",
       "\\begin{tabular}{llll}\n",
       " residence & sample\\_mean & sample\\_var & n\\\\\n",
       " <chr> & <dbl> & <dbl> & <int>\\\\\n",
       "\\hline\n",
       "\t Rural & 86.89475 & 12.703392 & 461\\\\\n",
       "\t Urban & 85.41506 &  9.325018 & 539\\\\\n",
       "\\end{tabular}\n"
      ],
      "text/markdown": [
       "\n",
       "A tibble: 2 × 4\n",
       "\n",
       "| residence &lt;chr&gt; | sample_mean &lt;dbl&gt; | sample_var &lt;dbl&gt; | n &lt;int&gt; |\n",
       "|---|---|---|---|\n",
       "| Rural | 86.89475 | 12.703392 | 461 |\n",
       "| Urban | 85.41506 |  9.325018 | 539 |\n",
       "\n"
      ],
      "text/plain": [
       "  residence sample_mean sample_var n  \n",
       "1 Rural     86.89475    12.703392  461\n",
       "2 Urban     85.41506     9.325018  539"
      ]
     },
     "metadata": {},
     "output_type": "display_data"
    }
   ],
   "source": [
    "# get the sample mean, sample standard deviation, and the number of residence for both group.\n",
    "residence_summary <- \n",
    "    student_total %>% \n",
    "    group_by(residence) %>% \n",
    "    summarise(sample_mean = mean(average_grades), \n",
    "              sample_var = var(average_grades), \n",
    "              n = n())\n",
    "\n",
    "residence_summary"
   ]
  },
  {
   "cell_type": "code",
   "execution_count": 19,
   "id": "b1677fac-16cf-4fbb-91ed-4c0b3ec50315",
   "metadata": {},
   "outputs": [
    {
     "data": {
      "text/html": [
       "6.98643336467504"
      ],
      "text/latex": [
       "6.98643336467504"
      ],
      "text/markdown": [
       "6.98643336467504"
      ],
      "text/plain": [
       "[1] 6.986433"
      ]
     },
     "metadata": {},
     "output_type": "display_data"
    }
   ],
   "source": [
    "# calculate t-value\n",
    "t_value <- \n",
    "  (residence_summary$sample_mean[1] - residence_summary$sample_mean[2]) / \n",
    "   sqrt((residence_summary$sample_var[1])/residence_summary$n[1] + \n",
    "        (residence_summary$sample_var[2])/residence_summary$n[2])\n",
    "\n",
    "t_value"
   ]
  },
  {
   "cell_type": "code",
   "execution_count": 21,
   "id": "d4d867e8-d5f3-44c7-b442-3cf83a01f94d",
   "metadata": {},
   "outputs": [
    {
     "data": {
      "text/html": [
       "<table class=\"dataframe\">\n",
       "<caption>A tibble: 1 × 10</caption>\n",
       "<thead>\n",
       "\t<tr><th scope=col>estimate</th><th scope=col>estimate1</th><th scope=col>estimate2</th><th scope=col>statistic</th><th scope=col>p.value</th><th scope=col>parameter</th><th scope=col>conf.low</th><th scope=col>conf.high</th><th scope=col>method</th><th scope=col>alternative</th></tr>\n",
       "\t<tr><th scope=col>&lt;dbl&gt;</th><th scope=col>&lt;dbl&gt;</th><th scope=col>&lt;dbl&gt;</th><th scope=col>&lt;dbl&gt;</th><th scope=col>&lt;dbl&gt;</th><th scope=col>&lt;dbl&gt;</th><th scope=col>&lt;dbl&gt;</th><th scope=col>&lt;dbl&gt;</th><th scope=col>&lt;chr&gt;</th><th scope=col>&lt;chr&gt;</th></tr>\n",
       "</thead>\n",
       "<tbody>\n",
       "\t<tr><td>1.479686</td><td>86.89475</td><td>85.41506</td><td>6.986433</td><td>2.718814e-12</td><td>911.6687</td><td>1.130961</td><td>Inf</td><td>Welch Two Sample t-test</td><td>greater</td></tr>\n",
       "</tbody>\n",
       "</table>\n"
      ],
      "text/latex": [
       "A tibble: 1 × 10\n",
       "\\begin{tabular}{llllllllll}\n",
       " estimate & estimate1 & estimate2 & statistic & p.value & parameter & conf.low & conf.high & method & alternative\\\\\n",
       " <dbl> & <dbl> & <dbl> & <dbl> & <dbl> & <dbl> & <dbl> & <dbl> & <chr> & <chr>\\\\\n",
       "\\hline\n",
       "\t 1.479686 & 86.89475 & 85.41506 & 6.986433 & 2.718814e-12 & 911.6687 & 1.130961 & Inf & Welch Two Sample t-test & greater\\\\\n",
       "\\end{tabular}\n"
      ],
      "text/markdown": [
       "\n",
       "A tibble: 1 × 10\n",
       "\n",
       "| estimate &lt;dbl&gt; | estimate1 &lt;dbl&gt; | estimate2 &lt;dbl&gt; | statistic &lt;dbl&gt; | p.value &lt;dbl&gt; | parameter &lt;dbl&gt; | conf.low &lt;dbl&gt; | conf.high &lt;dbl&gt; | method &lt;chr&gt; | alternative &lt;chr&gt; |\n",
       "|---|---|---|---|---|---|---|---|---|---|\n",
       "| 1.479686 | 86.89475 | 85.41506 | 6.986433 | 2.718814e-12 | 911.6687 | 1.130961 | Inf | Welch Two Sample t-test | greater |\n",
       "\n"
      ],
      "text/plain": [
       "  estimate estimate1 estimate2 statistic p.value      parameter conf.low\n",
       "1 1.479686 86.89475  85.41506  6.986433  2.718814e-12 911.6687  1.130961\n",
       "  conf.high method                  alternative\n",
       "1 Inf       Welch Two Sample t-test greater    "
      ]
     },
     "metadata": {},
     "output_type": "display_data"
    }
   ],
   "source": [
    "# perform t-test\n",
    "test <- tidy (t.test(x=student_total %>% filter(residence == \"Rural\") %>% select(average_grades),\n",
    "                           y=student_total %>% filter(residence == \"Urban\") %>% select(average_grades),\n",
    "                           alternative = \"greater\"))\n",
    "\n",
    "test"
   ]
  },
  {
   "cell_type": "markdown",
   "id": "066f67d4-15aa-4af7-9d3e-0dde6ef2ce06",
   "metadata": {},
   "source": [
    "##### Two Sample t-test Method: Conclusion"
   ]
  },
  {
   "cell_type": "markdown",
   "id": "72225bdf-c091-42d8-9809-e157c61e7789",
   "metadata": {},
   "source": [
    "With the above `t.test()`, we can see that the exact p-value is 2.718814e-12. It is very close to zero but not zero. This p-value given from our `t-test()` gives support for the same conclusion we drew from the bootstrapping method performed above. Because it is less than our significance level 0.05, we should reject H0, and accept the alternative hypothesis H1 that the mean of students' score from the rural group is larger than the mean of students' score from the urban group."
   ]
  },
  {
   "cell_type": "markdown",
   "id": "1abea522-d2c9-4445-b087-0de2d4a5adbb",
   "metadata": {},
   "source": [
    "### Comparison between the two methods"
   ]
  },
  {
   "cell_type": "markdown",
   "id": "09590f3b-df66-47b9-a0cf-0726630b4d3d",
   "metadata": {},
   "source": [
    "In the context of this specific dataset that we have just worked on above, we think that asymptotics (the two sample t-test method) is more appropriate and more trustworthy for this situation than the bootstrapping method. \n",
    "\n",
    "While both methods supported the same conclusion that we needed to reject H0, the bootstrapping method simply reported 0 for the p-value which could be misleading (in our case we kept thinking that our code was wrong at first), while the two sample t-testing method gave the exact p-value, which is very close to zero and explains why the boostrapping method gave us a 0. "
   ]
  },
  {
   "cell_type": "markdown",
   "id": "11d34eb9-f2a0-4292-ae02-629f3f5ed805",
   "metadata": {},
   "source": [
    "## Discussion"
   ]
  },
  {
   "cell_type": "markdown",
   "id": "4ea6896b-6d4e-4032-a1d8-67bbfd07ecf0",
   "metadata": {},
   "source": [
    "**In this section, you’ll interpret the results you obtained in the previous section with respect to the main question/goal of your project.**\n",
    "\n",
    "**Summarize what you found, and the implications/impact of your findings.<br>\n",
    "If relevant, discuss whether your results were what you expected to find.<br>\n",
    "Discuss future questions/research this study could lead to.**"
   ]
  },
  {
   "cell_type": "markdown",
   "id": "c5590673-6042-4112-a969-d77aacf2d50c",
   "metadata": {},
   "source": [
    "#### From previous Methods:plan section in proposal\n",
    "**What do you expect to find?**\n",
    "\n",
    "We expect to find that we will reject $H_0$.\n",
    "\n",
    "**What impact could such findings have?**\n",
    "\n",
    "The findings could provide parents a new perspective on the influence of school locations on students' academic performance. Many people often make the assumption that urban schools are more developed and is equipped with better academic cirrciulum. Whilst it may be true, the findings from this experiment could show that there are influences other than location, which has a greater impact on students' academic performances. \n",
    "\n",
    "**What future questions could this lead to?**\n",
    "\n",
    "By finding whether students in urban or rural areas have better academic achievement, this could lead us to investigate factors that lead to such findings. For instance, what causes the students in rural areas to have a better behavior than students in urban areas? "
   ]
  },
  {
   "cell_type": "markdown",
   "id": "a885aae7-fa04-494b-ab29-6f50ef60f1a6",
   "metadata": {},
   "source": [
    "## References:"
   ]
  },
  {
   "cell_type": "markdown",
   "id": "1335ce79-a846-4de6-aae8-b1796225c810",
   "metadata": {},
   "source": [
    "Mukti, S. (2022). Go To College Dataset. https://www.kaggle.com/datasets/saddamazyazy/go-to-college-dataset\n",
    "\n",
    "\n",
    "Bernardi, F., & Gratz, M. (2015). Making up for an unlucky month of birth in school: Causal evidence on the compensatory advantage of family background in england. _Sociological Science_, 2(12), 235-251. https://doi.org/10.15195/v2.a12\n",
    "\n",
    "\n",
    "Nieuwenhuis, J., & Hooimeijer, P. (2016). The association between neighbourhoods and educational achievement, a systematic review and meta-analysis. _Journal of housing and the built environment : HBE_, 31(2), 321–347. https://doi.org/10.1007/s10901-015-9460-7\n",
    "\n",
    "\n",
    "Yurk Quadlin, N. (2015). When children affect parents: Children’s academic performance and parental investment. _Social Science Research_, 52, 671-685. https://doi.org/10.1016/j.ssresearch.2014.10.007\n"
   ]
  },
  {
   "cell_type": "code",
   "execution_count": null,
   "id": "03f4423a-6039-4abd-95db-66f3ca60d96c",
   "metadata": {},
   "outputs": [],
   "source": []
  }
 ],
 "metadata": {
  "kernelspec": {
   "display_name": "R",
   "language": "R",
   "name": "ir"
  },
  "language_info": {
   "codemirror_mode": "r",
   "file_extension": ".r",
   "mimetype": "text/x-r-source",
   "name": "R",
   "pygments_lexer": "r",
   "version": "4.0.5"
  }
 },
 "nbformat": 4,
 "nbformat_minor": 5
}
